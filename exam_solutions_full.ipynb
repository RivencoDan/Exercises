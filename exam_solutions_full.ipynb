{
 "cells": [
  {
   "cell_type": "markdown",
   "id": "f78b8bc3",
   "metadata": {},
   "source": [
    "# Exam 2024: Algorithm and Data Structures I\n",
    "\n",
    "A compiled notebook with full transcribed text and diagrams."
   ]
  },
  {
   "cell_type": "markdown",
   "id": "b848f3a3",
   "metadata": {},
   "source": [
    "## 1. Movie Reviews"
   ]
  },
  {
   "cell_type": "markdown",
   "id": "a8809218",
   "metadata": {},
   "source": [
    "### 1.1\n",
    "**Problem.** Give an algorithm that, given an array \\(R\\) of reviews (of size \\(n\\)), computes the total number of reviews with a score in the range \\([n, n^2]\\). Analyse the running time of your algorithm in terms of \\(n\\).\n",
    "\n",
    "**Solution.** We initialize a counter `c` to 0. For each position `i` in `R`, we check if `R[i] ∈ [n, n^2]`. If so, we increment `c`. At the end, we return `c`. We spend constant time at each of the \\(n\\) entries and hence the total running time is \\(O(n)\\)."
   ]
  },
  {
   "cell_type": "markdown",
   "id": "e604bb5a",
   "metadata": {},
   "source": [
    "### 1.2\n",
    "**Problem.** Give an algorithm that, given \\(R\\), computes the total number of *unique* review scores in the range \\([n, n^2]\\). (Multiple identical review scores should only be counted once.) Analyse the running time in terms of \\(n\\).\n",
    "\n",
    "**Solution.**\n",
    "1. Initialize an empty dictionary (hash table) to represent a set.  \n",
    "2. For each position `i` in `R`:\n",
    "   - If `R[i] ∈ [n, n^2]`, add `R[i]` to the set (i.e., insert into the hash table).  \n",
    "3. After processing all entries, traverse the dictionary to compute its size (the number of unique keys).\n",
    "\n",
    "Assuming simple uniform hashing, each insertion takes \\(O(1)\\) expected time. We perform at most \\(n\\) insertions and then traverse at most \\(n\\) entries, so the total expected running time is \\(O(n)\\)."
   ]
  },
  {
   "cell_type": "markdown",
   "id": "b025a61e",
   "metadata": {},
   "source": [
    "### 1.3\n",
    "**Problem.** We want to find the position in the array \\(R\\) containing a particular review score \\(s\\) that occurs exactly once in \\(R\\). Suppose we have a black‑box algorithm `TEST(l, r, s)` that can determine if the score \\(s\\) exists in the range `R[l..r]` in \\(O(\\log n)\\) time. Give an algorithm that, given \\(R\\) and \\(s\\), computes the position of \\(s\\) in \\(R\\). Use `TEST` to help you. Analyze the running time in terms of \\(n\\).\n",
    "\n",
    "**Solution.**\n",
    "```pseudo\n",
    "FIND_POS(R, s):\n",
    "    low ← 0\n",
    "    high ← length(R) – 1\n",
    "    while (high – low + 1) > c:  # c is a small constant threshold\n",
    "        mid ← ⌊(low + high)/2⌋\n",
    "        if TEST(low, mid, s) then\n",
    "            high ← mid\n",
    "        else\n",
    "            low ← mid + 1\n",
    "    # Now the subarray size ≤ c; do linear search\n",
    "    for i from low to high do\n",
    "        if R[i] == s then\n",
    "            return i\n",
    "```\n",
    "Each call to `TEST` takes \\(O(\\log n)\\), and we make at most \\(\\lceil\\log_2 n\r",
    "ceil\\) calls. The final linear search is \\(O(1)\\). Therefore the total running time is \\(O(\\log^2 n)\\)."
   ]
  },
  {
   "cell_type": "markdown",
   "id": "54a09263",
   "metadata": {},
   "source": [
    "## 2. Tree Distances\n",
    "\n",
    "This exercise is about rooted binary trees. Each node `x` has fields `x.parent`, `x.left`, and `x.right`, denoting the parent and children (for the root, `root.parent = null`). The tree size is \\(n\\)."
   ]
  },
  {
   "cell_type": "markdown",
   "id": "44f3f98a",
   "metadata": {},
   "source": [
    "### 2.1\n",
    "**Problem.** A *descendant leaf* of a node \\(x\\) is a descendant of \\(x\\) that is also a leaf. A *nearest descendant leaf* is a descendant leaf at minimal distance from \\(x\\). The *leaf distance* for \\(x\\) is the distance from \\(x\\) to its nearest descendant leaf (if \\(x\\) itself is a leaf, this distance is 0).\n",
    "\n",
    "**Task.** Consider the tree below. Write the leaf distance for each node directly on the vertices in the tree diagram.\n"
   ]
  },
  {
   "cell_type": "markdown",
   "id": "31a67c6d",
   "metadata": {},
   "source": [
    "![](/mnt/data/7021e9a6-7d68-45b9-9e70-02a2582da9cc.png)"
   ]
  },
  {
   "cell_type": "markdown",
   "id": "74146a1a",
   "metadata": {},
   "source": [
    "### 2.2\n",
    "**Problem.** Give a recursive algorithm `LeafDist(x)` that, given the root `x`, computes the leaf distance for all nodes in the tree. Assume each node `y` has a field `y.leafdist`; after calling `LeafDist(root)`, `y.leafdist` should hold the leaf distance of `y`. Write pseudocode and analyse the running time in terms of \\(n\\).\n",
    "\n",
    "**Solution.**\n",
    "```pseudo\n",
    "LEAFDIST(x):\n",
    "    if x.left == null and x.right == null then\n",
    "        x.leafdist ← 0\n",
    "    end if\n",
    "    if x.left ≠ null then\n",
    "        LEAFDIST(x.left)\n",
    "    end if\n",
    "    if x.right ≠ null then\n",
    "        LEAFDIST(x.right)\n",
    "    end if\n",
    "    x.leafdist ← 1 + min(\n",
    "        (x.left  ≠ null ? x.left.leafdist  : ∞),\n",
    "        (x.right ≠ null ? x.right.leafdist : ∞)\n",
    "    )\n",
    "```  \n",
    "Each node is visited once and performs \\(O(1)\\) work, so the running time is \\(O(n)\\)."
   ]
  },
  {
   "cell_type": "markdown",
   "id": "67ecf5b3",
   "metadata": {},
   "source": [
    "### 2.3\n",
    "**Problem.** Now assume each node `y` already has `y.leafdist` computed. Give a recursive algorithm `ClosestLeaf(x)` that, given the root `x`, prints out all nearest descendant leaves of `x`. Write pseudocode and analyse the running time in terms of \\(n\\).\n",
    "\n",
    "**Solution.**\n",
    "```pseudo\n",
    "CLOSESTLEAF(x):\n",
    "    if x.left == null and x.right == null then\n",
    "        print(x)\n",
    "    end if\n",
    "    if x.left ≠ null and x.left.leafdist == x.leafdist - 1 then\n",
    "        CLOSESTLEAF(x.left)\n",
    "    end if\n",
    "    if x.right ≠ null and x.right.leafdist == x.leafdist - 1 then\n",
    "        CLOSESTLEAF(x.right)\n",
    "    end if\n",
    "```  \n",
    "Again, each node incurs \\(O(1)\\) work and is visited at most once, giving \\(O(n)\\) time."
   ]
  },
  {
   "cell_type": "markdown",
   "id": "26d59d31",
   "metadata": {},
   "source": [
    "## 3. Zombies\n",
    "\n",
    "A *zombie outbreak* consists of a set of persons and a set of infections. Each infection is a pair `(p1, p2)` indicating that `p1` infected `p2`. Let \\(P\\) be the number of persons and \\(I\\) the number of infections."
   ]
  },
  {
   "cell_type": "markdown",
   "id": "a3488c3d",
   "metadata": {},
   "source": [
    "### 3.1\n",
    "**Problem.** Describe how to model a zombie outbreak as a graph.\n",
    "\n",
    "**Solution.** Model the outbreak as a **directed graph**: vertices are persons and directed edges are infections `(p1 → p2)`. "
   ]
  },
  {
   "cell_type": "markdown",
   "id": "33ed3f7a",
   "metadata": {},
   "source": [
    "### 3.2\n",
    "**Problem.** Draw the graph corresponding to the outbreak in the example \\(\\{(A,B), (B,C), (C,D), (A,E), (E,C)\\}\\).\n",
    "\n",
    "**Solution.**"
   ]
  },
  {
   "cell_type": "markdown",
   "id": "66e05563",
   "metadata": {},
   "source": [
    "![](/mnt/data/11bbb6f7-5116-41e9-9317-be97ae95db1a.png)"
   ]
  },
  {
   "cell_type": "markdown",
   "id": "77f16fd4",
   "metadata": {},
   "source": [
    "### 3.3\n",
    "**Problem.** A person `p` is *patient-zero* if `p` did not get infected by any other person. Give an algorithm that prints all patient-zero persons in a given outbreak. Argue correctness and analyse running time in terms of \\(P, I\\).\n",
    "\n",
    "**Solution.**\n",
    "1. Build adjacency lists and compute in-degree for each vertex.  \n",
    "2. Traverse all vertices and collect those with in-degree = 0.  \n",
    "3. Return this list.  \n",
    "\n",
    "Correctness: in-degree 0 means no incoming infections.  \n",
    "Time: building lists and degrees takes \\(O(P + I)\\), scanning vertices takes \\(O(P + I)\\). Total \\(O(P + I)\\)."
   ]
  },
  {
   "cell_type": "markdown",
   "id": "51b1e732",
   "metadata": {},
   "source": [
    "### 3.4\n",
    "**Problem.** An *infection chain* is a sequence \\(p_0, \\dots, p_{k-1}\\) where each \\(p_i\\) infected \\(p_{i+1}\\). The outbreak is *inconsistent* if there is an infection chain that starts and ends at the same person (a directed cycle); otherwise it is *consistent*. Give an algorithm to determine consistency. Argue correctness and analyse running time in terms of \\(P, I\\).\n",
    "\n",
    "**Solution.**\n",
    "1. Build adjacency lists.  \n",
    "2. Check if the directed graph has a cycle (e.g., by running a DAG cycle detection / topological sort).  \n",
    "3. If a cycle is found, return “inconsistent”; otherwise “consistent.”  \n",
    "\n",
    "Cycle ⇔ directed cycle chain.  \n",
    "Time: \\(O(P + I)\\)."
   ]
  },
  {
   "cell_type": "markdown",
   "id": "472c870b",
   "metadata": {},
   "source": [
    "### 3.5\n",
    "**Problem.** Each infection \\(i\\) has a speed `speed(i)`. The speed of an infection chain is the sum of its infection-speeds. Given a *consistent* outbreak and two persons `p1, p2`, give an algorithm to compute the fastest infection chain from `p1` to `p2`. Argue correctness and analyse running time in terms of \\(P, I\\).\n",
    "\n",
    "**Solution.**\n",
    "1. Build adjacency lists and assign each edge a weight = `speed(i)`.  \n",
    "2. Since the graph is a DAG, run the DAG shortest-path algorithm from `p1` to all nodes.  \n",
    "3. Return the path to `p2`.  \n",
    "\n",
    "Correctness: fastest chain = shortest path in weighted DAG.  \n",
    "Time: \\(O(P + I)\\)."
   ]
  }
 ],
 "metadata": {},
 "nbformat": 4,
 "nbformat_minor": 5
}
