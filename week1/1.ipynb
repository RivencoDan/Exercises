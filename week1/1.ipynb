{
 "cells": [
  {
   "cell_type": "markdown",
   "id": "2171e394",
   "metadata": {},
   "source": [
    "### 1.1 Linear Scan: Find All Peaks\n"
   ]
  },
  {
   "cell_type": "raw",
   "id": "8ef2e004",
   "metadata": {},
   "source": [
    "Pseudocode:newline\n",
    "FUNCTION FIND_ALL_PEAKS_LINEAR(A[0…n–1]): \n",
    "  if n = 0: \n",
    "    return []\n",
    "  if n = 1:\n",
    "    return [0]\n",
    "  \n",
    "  peaks ← empty list\n",
    "  if A[0] ≥ A[1]:\n",
    "    append 0 to peaks\n",
    "\n",
    "  for i from 1 to n–2:\n",
    "    if A[i] ≥ A[i–1] and A[i] ≥ A[i+1]:\n",
    "      append i to peaks\n",
    "\n",
    "  if A[n–1] ≥ A[n–2]:\n",
    "    append n–1 to peaks\n",
    "\n",
    "  return peaks "
   ]
  },
  {
   "cell_type": "code",
   "execution_count": null,
   "id": "a5e1c341",
   "metadata": {},
   "outputs": [],
   "source": [
    "def find_all_peaks_linear(A):\n",
    "    n = len(A)\n",
    "    if n == 0:\n",
    "        return []\n",
    "    if n == 1:\n",
    "        return [0]\n",
    "    peaks = []\n",
    "    if A[0] >= A[1]:\n",
    "        peaks.append(0)\n",
    "    for i in range(1, n-1):\n",
    "        if A[i] >= A[i-1] and A[i] >= A[i+1]:\n",
    "            peaks.append(i)\n",
    "    if A[-1] >= A[-2]:\n",
    "        peaks.append(n-1)\n",
    "    return peaks\n"
   ]
  },
  {
   "cell_type": "markdown",
   "id": "1f08c939",
   "metadata": {},
   "source": [
    "### 1.2 Linear Scan: Find one peak "
   ]
  },
  {
   "cell_type": "markdown",
   "id": "aa419c88",
   "metadata": {},
   "source": [
    "Pseudocode:\n",
    "FUNCTION FIND_ONE_PEAK_LINEAR(A[0…n–1]):\n",
    "  if n = 0:\n",
    "    return None\n",
    "  if n = 1 or A[0] ≥ A[1]:\n",
    "    return 0\n",
    "\n",
    "  for i from 1 to n–2:\n",
    "    if A[i] ≥ A[i–1] and A[i] ≥ A[i+1]:\n",
    "      return i\n",
    "\n",
    "  if A[n–1] ≥ A[n–2]:\n",
    "    return n–1\n",
    "\n",
    "  return None\n"
   ]
  },
  {
   "cell_type": "code",
   "execution_count": null,
   "id": "fa96559a",
   "metadata": {},
   "outputs": [],
   "source": [
    "def find_one_peak_linear(A):\n",
    "    n = len(A)\n",
    "    if n == 0:\n",
    "        return None\n",
    "    if n == 1 or A[0] >= A[1]:\n",
    "        return 0\n",
    "    for i in range(1, n-1):\n",
    "        if A[i] >= A[i-1] and A[i] >= A[i+1]:\n",
    "            return i\n",
    "    if A[-1] >= A[-2]:\n",
    "        return n-1\n",
    "    return None\n"
   ]
  },
  {
   "cell_type": "markdown",
   "id": "8ee8c903",
   "metadata": {},
   "source": [
    "### 1.3 Recursive Find of a peak"
   ]
  },
  {
   "cell_type": "markdown",
   "id": "cd2defd9",
   "metadata": {},
   "source": [
    "Pseudocode\n",
    "FUNCTION FIND_PEAK_RECURSIVE(A, lo, hi):\n",
    "  if lo = hi:\n",
    "    return lo\n",
    "\n",
    "  mid ← ⌊(lo + hi)/2⌋\n",
    "  if A[mid] < A[mid+1]:\n",
    "    return FIND_PEAK_RECURSIVE(A, mid+1, hi)\n",
    "  else:\n",
    "    return FIND_PEAK_RECURSIVE(A, lo, mid)\n",
    "\n",
    "# initial call: FIND_PEAK_RECURSIVE(A, 0, n–1)\n"
   ]
  },
  {
   "cell_type": "code",
   "execution_count": null,
   "id": "7af6f424",
   "metadata": {},
   "outputs": [],
   "source": [
    "def find_peak_recursive(A, lo=0, hi=None):\n",
    "    if hi is None:\n",
    "        hi = len(A) - 1\n",
    "    if lo == hi:\n",
    "        return lo\n",
    "    mid = (lo + hi) // 2\n",
    "    if A[mid] < A[mid+1]:\n",
    "        return find_peak_recursive(A, mid+1, hi)\n",
    "    else:\n",
    "        return find_peak_recursive(A, lo, mid)\n"
   ]
  },
  {
   "cell_type": "markdown",
   "id": "914dac23",
   "metadata": {},
   "source": [
    "### 1.4 Find peak iterative\n"
   ]
  },
  {
   "cell_type": "markdown",
   "id": "81a46db0",
   "metadata": {},
   "source": [
    "Pseudocode:\n",
    "FUNCTION FIND_PEAK_ITERATIVE(A): O(log(n))\n",
    "  lo ← 0\n",
    "  hi ← n–1\n",
    "  while lo < hi:\n",
    "    mid ← ⌊(lo + hi)/2⌋\n",
    "    if A[mid] < A[mid+1]:\n",
    "      lo ← mid + 1\n",
    "    else:\n",
    "      hi ← mid\n",
    "  return lo\n"
   ]
  },
  {
   "cell_type": "code",
   "execution_count": null,
   "id": "c8425d98",
   "metadata": {},
   "outputs": [],
   "source": [
    "def find_peak_iterative(A):\n",
    "    lo, hi = 0, len(A) - 1\n",
    "    while lo < hi:\n",
    "        mid = (lo + hi) // 2\n",
    "        if A[mid] < A[mid+1]:\n",
    "            lo = mid + 1\n",
    "        else:\n",
    "            hi = mid\n",
    "    return lo\n"
   ]
  }
 ],
 "metadata": {
  "kernelspec": {
   "display_name": "Python 3",
   "language": "python",
   "name": "python3"
  },
  "language_info": {
   "codemirror_mode": {
    "name": "ipython",
    "version": 3
   },
   "file_extension": ".py",
   "mimetype": "text/x-python",
   "name": "python",
   "nbconvert_exporter": "python",
   "pygments_lexer": "ipython3",
   "version": "3.11.9"
  }
 },
 "nbformat": 4,
 "nbformat_minor": 5
}
