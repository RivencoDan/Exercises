{
 "cells": [
  {
   "cell_type": "markdown",
   "id": "6f6ac05c",
   "metadata": {},
   "source": [
    "\n",
    "# Segment Trees\n",
    "\n",
    "This notebook covers key concepts related to Segment Trees, which are used to efficiently perform range queries and updates on arrays. The notebook includes examples of operations like range sum queries, range updates, and problems like pizza price queries.\n"
   ]
  },
  {
   "cell_type": "markdown",
   "id": "2e7f1be5",
   "metadata": {},
   "source": [
    "\n",
    "## Theory of Segment Trees\n",
    "\n",
    "A **Segment Tree** is a binary tree used for storing intervals or segments. It allows querying and updating an array of values in logarithmic time. \n",
    "\n",
    "### Key Operations:\n",
    "- **Range Query**: Efficiently calculates some property (e.g., sum, minimum, maximum) over a specified range of an array.\n",
    "- **Range Update**: Efficiently updates all values in a given range of the array.\n",
    "\n",
    "### Segment Tree Construction:\n",
    "- The tree is constructed from an array and is typically a full binary tree where each node stores information about a range of the array.\n",
    "- Each leaf node corresponds to an individual element of the array.\n",
    "- Internal nodes store information about the range formed by the leaves in their subtrees.\n",
    "\n",
    "### Complexity:\n",
    "- **Query Operation**: O(log n)\n",
    "- **Update Operation**: O(log n)\n"
   ]
  },
  {
   "cell_type": "markdown",
   "id": "6890b74a",
   "metadata": {},
   "source": [
    "\n",
    "## Segment Tree Construction Example\n",
    "\n",
    "Consider the array A = [2, 7, 1, 8, 0, 6, 3, 6]. The segment tree for this array would be constructed as follows:\n",
    "\n",
    "1. The leaf nodes store the array elements.\n",
    "2. Internal nodes store the sums (or any other aggregate function) of their respective subarrays.\n",
    "\n",
    "After building the segment tree, the structure will look like the following:\n"
   ]
  },
  {
   "attachments": {
    "image.png": {
     "image/png": "[encoded data removed]"
    }
   },
   "cell_type": "markdown",
   "id": "7b2f603b",
   "metadata": {},
   "source": [
    "![image.png](attachment:image.png)"
   ]
  },
  {
   "cell_type": "markdown",
   "id": "f69b2f2b",
   "metadata": {},
   "source": [
    "Here, each internal node stores the sum of its children. This tree allows us to efficiently compute the sum of any subarray in O(log n) time."
   ]
  },
  {
   "cell_type": "markdown",
   "id": "975d1d38",
   "metadata": {},
   "source": [
    "\n",
    "## Segment Tree Operations\n",
    "\n",
    "### Pseudocode for Range Sum Query:\n",
    "1. Traverse the segment tree starting from the root.\n",
    "2. If the query range is completely contained within the current node's range, return the stored value.\n",
    "3. If the query range partially overlaps with the current node's range, recurse into the left and right subtrees.\n",
    "\n",
    "### Python Code for Range Sum Query:\n",
    "```python\n",
    "class SegmentTree:\n",
    "    def __init__(self, array):\n",
    "        self.n = len(array)\n",
    "        self.tree = [0] * (2 * self.n)\n",
    "        self.build(array)\n",
    "\n",
    "    def build(self, array):\n",
    "        # Insert leaf nodes in the tree\n",
    "        for i in range(self.n):\n",
    "            self.tree[self.n + i] = array[i]\n",
    "        \n",
    "        # Build the segment tree by calculating parents\n",
    "        for i in range(self.n - 1, 0, -1):\n",
    "            self.tree[i] = self.tree[2 * i] + self.tree[2 * i + 1]\n",
    "\n",
    "    def range_sum(self, left, right):\n",
    "        # Convert to 0-based indexing\n",
    "        left += self.n\n",
    "        right += self.n\n",
    "        sum = 0\n",
    "        while left <= right:\n",
    "            if left % 2 == 1:\n",
    "                sum += self.tree[left]\n",
    "                left += 1\n",
    "            if right % 2 == 0:\n",
    "                sum += self.tree[right]\n",
    "                right -= 1\n",
    "            left //= 2\n",
    "            right //= 2\n",
    "        return sum\n",
    "```\n",
    "\n",
    "### Pseudocode for Range Update:\n",
    "1. For the range to be updated, traverse the segment tree and update the relevant nodes.\n",
    "2. Apply the update to the range and propagate the change upwards.\n",
    "\n",
    "### Python Code for Range Update:\n",
    "```python\n",
    "    def range_update(self, left, right, value):\n",
    "        # Convert to 0-based indexing\n",
    "        left += self.n\n",
    "        right += self.n\n",
    "        while left <= right:\n",
    "            if left % 2 == 1:\n",
    "                self.tree[left] += value\n",
    "                left += 1\n",
    "            if right % 2 == 0:\n",
    "                self.tree[right] += value\n",
    "                right -= 1\n",
    "            left //= 2\n",
    "            right //= 2\n",
    "```\n"
   ]
  },
  {
   "cell_type": "markdown",
   "id": "e6fbf572",
   "metadata": {},
   "source": [
    "\n",
    "## Pizza Price Query Problem\n",
    "\n",
    "### Pseudocode for FINDCHEAPPIZZA Query:\n",
    "1. Use a segment tree to store pizza prices in each building.\n",
    "2. For each query, traverse the segment tree to find the cheapest pizza within the specified range.\n",
    "\n",
    "### Python Code for FINDCHEAPPIZZA:\n",
    "```python\n",
    "class PizzaPriceQuery:\n",
    "    def __init__(self, prices):\n",
    "        self.n = len(prices)\n",
    "        self.tree = [0] * (2 * self.n)\n",
    "        self.build(prices)\n",
    "\n",
    "    def build(self, prices):\n",
    "        # Insert leaf nodes in the tree\n",
    "        for i in range(self.n):\n",
    "            self.tree[self.n + i] = prices[i]\n",
    "        \n",
    "        # Build the segment tree by calculating parents\n",
    "        for i in range(self.n - 1, 0, -1):\n",
    "            self.tree[i] = min(self.tree[2 * i], self.tree[2 * i + 1])\n",
    "\n",
    "    def find_cheapest_pizza(self, left, right):\n",
    "        # Convert to 0-based indexing\n",
    "        left += self.n\n",
    "        right += self.n\n",
    "        min_price = float('inf')\n",
    "        while left <= right:\n",
    "            if left % 2 == 1:\n",
    "                min_price = min(min_price, self.tree[left])\n",
    "                left += 1\n",
    "            if right % 2 == 0:\n",
    "                min_price = min(min_price, self.tree[right])\n",
    "                right -= 1\n",
    "            left //= 2\n",
    "            right //= 2\n",
    "        return min_price\n",
    "```\n"
   ]
  }
 ],
 "metadata": {
  "language_info": {
   "name": "python"
  }
 },
 "nbformat": 4,
 "nbformat_minor": 5
}
