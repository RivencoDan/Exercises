{
 "cells": [
  {
   "cell_type": "markdown",
   "id": "97eb9dd5",
   "metadata": {},
   "source": [
    "### 1.1 Iterative Insert Sort"
   ]
  },
  {
   "cell_type": "markdown",
   "id": "f81a9951",
   "metadata": {},
   "source": [
    "Pseudocode:\n",
    "INSERTION-SORT(A[0…n−1]):\n",
    "  for j = 1 to n−1:\n",
    "    key ← A[j]\n",
    "    i ← j−1\n",
    "    while i ≥ 0 and A[i] > key:\n",
    "      A[i+1] ← A[i]\n",
    "      i ← i−1\n",
    "    A[i+1] ← key\n"
   ]
  },
  {
   "cell_type": "markdown",
   "id": "348be385",
   "metadata": {},
   "source": [
    "def insertion_sort(A):\n",
    "    for j in range(1, len(A)):\n",
    "        key = A[j]\n",
    "        i = j - 1\n",
    "        while i >= 0 and A[i] > key:\n",
    "            A[i+1] = A[i]\n",
    "            i -= 1\n",
    "        A[i+1] = key\n",
    "    return A\n"
   ]
  },
  {
   "cell_type": "markdown",
   "id": "4ccee2c3",
   "metadata": {},
   "source": [
    "### 1.2 Recursive Insertion Sort"
   ]
  },
  {
   "cell_type": "markdown",
   "id": "0e963d53",
   "metadata": {},
   "source": [
    "Pseudocode:\n",
    "RECURSIVE-INSERTION-SORT(A, n):\n",
    "  if n ≤ 1:\n",
    "    return\n",
    "  RECURSIVE-INSERTION-SORT(A, n−1)\n",
    "  key ← A[n−1]\n",
    "  i ← n−2\n",
    "  while i ≥ 0 and A[i] > key:\n",
    "    A[i+1] ← A[i]\n",
    "    i ← i−1\n",
    "  A[i+1] ← key\n"
   ]
  },
  {
   "cell_type": "code",
   "execution_count": null,
   "id": "24736fd2",
   "metadata": {},
   "outputs": [],
   "source": [
    "def recursive_insertion_sort(A, n=None):\n",
    "    if n is None:\n",
    "        n = len(A)\n",
    "    if n <= 1:\n",
    "        return\n",
    "    recursive_insertion_sort(A, n-1)\n",
    "    key = A[n-1]\n",
    "    i = n-2\n",
    "    while i >= 0 and A[i] > key:\n",
    "        A[i+1] = A[i]\n",
    "        i -= 1\n",
    "    A[i+1] = key\n"
   ]
  },
  {
   "cell_type": "markdown",
   "id": "14ebe9c3",
   "metadata": {},
   "source": [
    "### 2 Merge Sort"
   ]
  },
  {
   "cell_type": "markdown",
   "id": "4e8b1e05",
   "metadata": {},
   "source": [
    "Pseudocode:\n",
    "MERGE-SORT(A, p, r):\n",
    "  if p < r:\n",
    "    q ← ⌊(p+r)/2⌋\n",
    "    MERGE-SORT(A, p, q)\n",
    "    MERGE-SORT(A, q+1, r)\n",
    "    MERGE(A, p, q, r)\n",
    "\n",
    "MERGE(A, p, q, r):\n",
    "  n1 ← q−p+1; n2 ← r−q\n",
    "  create L[1…n1+1], R[1…n2+1]\n",
    "  for i = 1 to n1: L[i] ← A[p+i−1]\n",
    "  for j = 1 to n2: R[j] ← A[q+j]\n",
    "  L[n1+1], R[n2+1] ← ∞\n",
    "  i ← 1; j ← 1\n",
    "  for k = p to r:\n",
    "    if L[i] ≤ R[j]:\n",
    "      A[k] ← L[i]; i ← i+1\n",
    "    else:\n",
    "      A[k] ← R[j]; j ← j+1\n"
   ]
  },
  {
   "cell_type": "code",
   "execution_count": null,
   "id": "3a27fd20",
   "metadata": {},
   "outputs": [],
   "source": [
    "def merge(A, p, q, r):\n",
    "    L = A[p:q+1] + [float('inf')]\n",
    "    R = A[q+1:r+1] + [float('inf')]\n",
    "    i = j = 0\n",
    "    for k in range(p, r+1):\n",
    "        if L[i] <= R[j]:\n",
    "            A[k] = L[i]\n",
    "            i += 1\n",
    "        else:\n",
    "            A[k] = R[j]\n",
    "            j += 1\n",
    "\n",
    "def merge_sort(A, p=0, r=None):\n",
    "    if r is None:\n",
    "        r = len(A) - 1\n",
    "    if p < r:\n",
    "        q = (p + r) // 2\n",
    "        merge_sort(A, p, q)\n",
    "        merge_sort(A, q+1, r)\n",
    "        merge(A, p, q, r)\n",
    "    return A\n"
   ]
  },
  {
   "cell_type": "markdown",
   "id": "f432fc51",
   "metadata": {},
   "source": [
    "### 3 Duplicate Detection"
   ]
  },
  {
   "cell_type": "markdown",
   "id": "ecf443ce",
   "metadata": {},
   "source": [
    "### 3.1 Brute-Force (O(n^2))"
   ]
  },
  {
   "cell_type": "markdown",
   "id": "1b3711d2",
   "metadata": {},
   "source": [
    "Pseudocode:\n",
    "HAS-DUPLICATE-BF(A[0…n−1]):\n",
    "  for i = 0 to n−2:\n",
    "    for j = i+1 to n−1:\n",
    "      if A[i] = A[j]:\n",
    "        return true\n",
    "  return false\n"
   ]
  },
  {
   "cell_type": "code",
   "execution_count": null,
   "id": "a6996d1b",
   "metadata": {},
   "outputs": [],
   "source": [
    "def has_duplicate_bruteforce(A):\n",
    "    n = len(A)\n",
    "    for i in range(n-1):\n",
    "        for j in range(i+1, n):\n",
    "            if A[i] == A[j]:\n",
    "                return True\n",
    "    return False\n"
   ]
  },
  {
   "cell_type": "markdown",
   "id": "a81d259b",
   "metadata": {},
   "source": [
    "### 3.2 Sort/Scan Duplicate (O(nlogn|))"
   ]
  },
  {
   "cell_type": "markdown",
   "id": "3333d7f1",
   "metadata": {},
   "source": [
    "Pseudocode:\n",
    "HAS-DUPLICATE-SORT(A[0…n−1]):\n",
    "  sort A\n",
    "  for i = 0 to n−2:\n",
    "    if A[i] = A[i+1]:\n",
    "      return true\n",
    "  return false\n"
   ]
  },
  {
   "cell_type": "code",
   "execution_count": null,
   "id": "63ac1dc7",
   "metadata": {},
   "outputs": [],
   "source": [
    "def has_duplicate_sort(A):\n",
    "    A = sorted(A)\n",
    "    for i in range(len(A)-1):\n",
    "        if A[i] == A[i+1]:\n",
    "            return True\n",
    "    return False\n"
   ]
  },
  {
   "cell_type": "markdown",
   "id": "b3d04ae7",
   "metadata": {},
   "source": [
    "### 4 Closest Pair"
   ]
  },
  {
   "cell_type": "markdown",
   "id": "34e68a38",
   "metadata": {},
   "source": [
    "CLOSEST-PAIR-1D(A[0…n−1]):\n",
    "  sort A\n",
    "  best_diff ← ∞; pair ← (−, −)\n",
    "  for i = 0 to n−2:\n",
    "    diff ← A[i+1] − A[i]\n",
    "    if diff < best_diff:\n",
    "      best_diff ← diff\n",
    "      pair ← (i, i+1)\n",
    "  return pair, best_diff\n"
   ]
  },
  {
   "cell_type": "code",
   "execution_count": null,
   "id": "0a29eee2",
   "metadata": {},
   "outputs": [],
   "source": [
    "def closest_pair_1d(A):\n",
    "    A = sorted(A)\n",
    "    best = float('inf')\n",
    "    pair = None\n",
    "    for i in range(len(A)-1):\n",
    "        diff = A[i+1] - A[i]\n",
    "        if diff < best:\n",
    "            best = diff\n",
    "            pair = (A[i], A[i+1])\n",
    "    return pair, best\n"
   ]
  },
  {
   "cell_type": "markdown",
   "id": "d7f01b3e",
   "metadata": {},
   "source": [
    "### 5 Binary Search Iterative"
   ]
  },
  {
   "cell_type": "markdown",
   "id": "5fd4d5f5",
   "metadata": {},
   "source": [
    "Pseudocode:\n",
    "FUNCTION BINARY-SEARCH(A[0…n−1], target):\n",
    "  lo ← 0\n",
    "  hi ← n − 1\n",
    "\n",
    "  WHILE lo ≤ hi:\n",
    "    mid ← ⌊(lo + hi) / 2⌋\n",
    "    IF A[mid] = target:\n",
    "      RETURN mid\n",
    "    ELSE IF A[mid] < target:\n",
    "      lo ← mid + 1\n",
    "    ELSE:\n",
    "      hi ← mid − 1\n",
    "\n",
    "  // target not found\n",
    "  RETURN −1\n"
   ]
  },
  {
   "cell_type": "code",
   "execution_count": null,
   "id": "140a1f14",
   "metadata": {},
   "outputs": [],
   "source": [
    "def binary_search_iterative(A, target):\n",
    "    \"\"\"\n",
    "    Perform binary search on sorted list A.\n",
    "    Returns the index of target if found, else -1.\n",
    "    \"\"\"\n",
    "    lo, hi = 0, len(A) - 1\n",
    "    while lo <= hi:\n",
    "        mid = (lo + hi) // 2\n",
    "        if A[mid] == target:\n",
    "            return mid\n",
    "        elif A[mid] < target:\n",
    "            lo = mid + 1\n",
    "        else:\n",
    "            hi = mid - 1\n",
    "    return -1\n"
   ]
  },
  {
   "cell_type": "markdown",
   "id": "d46bceea",
   "metadata": {},
   "source": [
    "### Binary Search Recursive"
   ]
  },
  {
   "cell_type": "markdown",
   "id": "1010eac3",
   "metadata": {},
   "source": [
    "Pseudocode:\n",
    "FUNCTION BINARY-SEARCH-REC(A, target, lo, hi):\n",
    "  IF lo > hi:\n",
    "    RETURN −1\n",
    "\n",
    "  mid ← ⌊(lo + hi) / 2⌋\n",
    "  IF A[mid] = target:\n",
    "    RETURN mid\n",
    "  ELSE IF A[mid] < target:\n",
    "    RETURN BINARY-SEARCH-REC(A, target, mid+1, hi)\n",
    "  ELSE:\n",
    "    RETURN BINARY-SEARCH-REC(A, target, lo, mid−1)\n",
    "\n",
    "# initial call: BINARY-SEARCH-REC(A, target, 0, n−1)\n"
   ]
  }
 ],
 "metadata": {
  "language_info": {
   "name": "python"
  }
 },
 "nbformat": 4,
 "nbformat_minor": 5
}
