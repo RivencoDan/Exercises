{
 "cells": [
  {
   "cell_type": "markdown",
   "id": "23844c89",
   "metadata": {},
   "source": [
    "### Array based stack"
   ]
  },
  {
   "cell_type": "markdown",
   "id": "a5aa5891",
   "metadata": {},
   "source": [
    "#### Single Stack"
   ]
  },
  {
   "cell_type": "markdown",
   "id": "c19accf9",
   "metadata": {},
   "source": [
    "Pseudocode:\n",
    "INIT-STACK(capacity):\n",
    "  top ← –1\n",
    "  A[0…capacity–1]\n",
    "\n",
    "PUSH(S, x):\n",
    "  if top = capacity–1: error “overflow”\n",
    "  top ← top + 1\n",
    "  A[top] ← x\n",
    "\n",
    "POP(S):\n",
    "  if top = –1: error “underflow”\n",
    "  x ← A[top]\n",
    "  top ← top – 1\n",
    "  return x\n"
   ]
  },
  {
   "cell_type": "code",
   "execution_count": null,
   "id": "1726751f",
   "metadata": {},
   "outputs": [],
   "source": [
    "class ArrayStack:\n",
    "    def __init__(self, capacity):\n",
    "        self.A = [None] * capacity\n",
    "        self.top = -1\n",
    "        self.capacity = capacity\n",
    "\n",
    "    def push(self, x):\n",
    "        if self.top == self.capacity - 1:\n",
    "            raise IndexError(\"Stack overflow\")\n",
    "        self.top += 1\n",
    "        self.A[self.top] = x\n",
    "\n",
    "    def pop(self):\n",
    "        if self.top == -1:\n",
    "            raise IndexError(\"Stack underflow\")\n",
    "        x = self.A[self.top]\n",
    "        self.top -= 1\n",
    "        return x\n"
   ]
  },
  {
   "cell_type": "markdown",
   "id": "adbd374d",
   "metadata": {},
   "source": [
    "#### 2 stacks in one array"
   ]
  },
  {
   "cell_type": "markdown",
   "id": "28255701",
   "metadata": {},
   "source": [
    "Pseudocode:\n",
    "INIT-2STACKS(capacity):\n",
    "  top1 ← –1\n",
    "  top2 ← capacity\n",
    "  A[0…capacity–1]\n",
    "\n",
    "PUSH1(x):\n",
    "  if top1 + 1 = top2: error “overflow”\n",
    "  top1 ← top1 + 1\n",
    "  A[top1] ← x\n",
    "\n",
    "PUSH2(x):\n",
    "  if top2 – 1 = top1: error “overflow”\n",
    "  top2 ← top2 – 1\n",
    "  A[top2] ← x\n",
    "\n",
    "POP1():\n",
    "  if top1 = –1: error “underflow”\n",
    "  x ← A[top1]; top1 ← top1 – 1; return x\n",
    "\n",
    "POP2():\n",
    "  if top2 = capacity: error “underflow”\n",
    "  x ← A[top2]; top2 ← top2 + 1; return x\n",
    "\n"
   ]
  },
  {
   "cell_type": "code",
   "execution_count": null,
   "id": "76cf3fd6",
   "metadata": {},
   "outputs": [],
   "source": [
    "class TwoStacks:\n",
    "    def __init__(self, capacity):\n",
    "        self.A = [None] * capacity\n",
    "        self.top1 = -1\n",
    "        self.top2 = capacity\n",
    "        self.capacity = capacity\n",
    "\n",
    "    def push1(self, x):\n",
    "        if self.top1 + 1 == self.top2:\n",
    "            raise IndexError(\"Overflow\")\n",
    "        self.top1 += 1\n",
    "        self.A[self.top1] = x\n",
    "\n",
    "    def push2(self, x):\n",
    "        if self.top2 - 1 == self.top1:\n",
    "            raise IndexError(\"Overflow\")\n",
    "        self.top2 -= 1\n",
    "        self.A[self.top2] = x\n",
    "\n",
    "    def pop1(self):\n",
    "        if self.top1 == -1:\n",
    "            raise IndexError(\"Underflow\")\n",
    "        x = self.A[self.top1]\n",
    "        self.top1 -= 1\n",
    "        return x\n",
    "\n",
    "    def pop2(self):\n",
    "        if self.top2 == self.capacity:\n",
    "            raise IndexError(\"Underflow\")\n",
    "        x = self.A[self.top2]\n",
    "        self.top2 += 1\n",
    "        return x\n"
   ]
  },
  {
   "cell_type": "markdown",
   "id": "9a35245e",
   "metadata": {},
   "source": [
    "### Array Based Queue"
   ]
  },
  {
   "cell_type": "markdown",
   "id": "f201cb1d",
   "metadata": {},
   "source": [
    "Pseudocode:\n",
    "INIT-QUEUE(capacity):\n",
    "  A[0…capacity–1]; head ← 0; tail ← 0; size ← 0\n",
    "\n",
    "ENQUEUE(x):\n",
    "  if size = capacity: error “overflow”\n",
    "  A[tail] ← x\n",
    "  tail ← (tail + 1) mod capacity\n",
    "  size ← size + 1\n",
    "\n",
    "DEQUEUE():\n",
    "  if size = 0: error “underflow”\n",
    "  x ← A[head]\n",
    "  head ← (head + 1) mod capacity\n",
    "  size ← size – 1\n",
    "  return x\n"
   ]
  },
  {
   "cell_type": "code",
   "execution_count": null,
   "id": "4bb46da9",
   "metadata": {},
   "outputs": [],
   "source": [
    "class ArrayQueue:\n",
    "    def __init__(self, capacity):\n",
    "        self.A = [None] * capacity\n",
    "        self.head = self.tail = self.size = 0\n",
    "        self.capacity = capacity\n",
    "\n",
    "    def enqueue(self, x):\n",
    "        if self.size == self.capacity:\n",
    "            raise IndexError(\"Queue overflow\")\n",
    "        self.A[self.tail] = x\n",
    "        self.tail = (self.tail + 1) % self.capacity\n",
    "        self.size += 1\n",
    "\n",
    "    def dequeue(self):\n",
    "        if self.size == 0:\n",
    "            raise IndexError(\"Queue underflow\")\n",
    "        x = self.A[self.head]\n",
    "        self.head = (self.head + 1) % self.capacity\n",
    "        self.size -= 1\n",
    "        return x\n"
   ]
  },
  {
   "cell_type": "markdown",
   "id": "feef9665",
   "metadata": {},
   "source": [
    "### Queue Implemented with 2 Stacks"
   ]
  },
  {
   "cell_type": "markdown",
   "id": "6357ffa1",
   "metadata": {},
   "source": [
    "Pseudocode:\n",
    "INIT-QUEUE-2STACKS():\n",
    "  S1, S2 ← empty stacks\n",
    "\n",
    "ENQUEUE(x):\n",
    "  PUSH(S1, x)\n",
    "\n",
    "DEQUEUE():\n",
    "  if S2 is empty:\n",
    "    while S1 not empty:\n",
    "      PUSH(S2, POP(S1))\n",
    "  if S2 is empty: error “underflow”\n",
    "  return POP(S2)\n"
   ]
  },
  {
   "cell_type": "code",
   "execution_count": null,
   "id": "87370bf6",
   "metadata": {},
   "outputs": [],
   "source": [
    "class QueueWithStacks:\n",
    "    def __init__(self):\n",
    "        self.S1, self.S2 = [], []\n",
    "\n",
    "    def enqueue(self, x):\n",
    "        self.S1.append(x)\n",
    "\n",
    "    def dequeue(self):\n",
    "        if not self.S2:\n",
    "            while self.S1:\n",
    "                self.S2.append(self.S1.pop())\n",
    "        if not self.S2:\n",
    "            raise IndexError(\"Queue underflow\")\n",
    "        return self.S2.pop()\n"
   ]
  },
  {
   "cell_type": "markdown",
   "id": "01a1ea20",
   "metadata": {},
   "source": [
    "### Linked Liste Queue"
   ]
  },
  {
   "cell_type": "markdown",
   "id": "63db60a4",
   "metadata": {},
   "source": [
    "Pseudocode:\n",
    "ENQUEUE(Q, x):\n",
    "  x.next ← null\n",
    "  if Q.tail ≠ null:\n",
    "    Q.tail.next ← x\n",
    "  else:\n",
    "    Q.head ← x\n",
    "  Q.tail ← x\n",
    "\n",
    "DEQUEUE(Q):\n",
    "  if Q.head = null: error “underflow”\n",
    "  x ← Q.head; Q.head ← Q.head.next\n",
    "  if Q.head = null: Q.tail ← null\n",
    "  return x\n"
   ]
  },
  {
   "cell_type": "code",
   "execution_count": null,
   "id": "5322c34a",
   "metadata": {},
   "outputs": [],
   "source": [
    "class LinkedListQueue:\n",
    "    def __init__(self):\n",
    "        self.head = self.tail = None\n",
    "\n",
    "    def enqueue(self, x):\n",
    "        x.next = None\n",
    "        if self.tail:\n",
    "            self.tail.next = x\n",
    "        else:\n",
    "            self.head = x\n",
    "        self.tail = x\n",
    "\n",
    "    def dequeue(self):\n",
    "        if not self.head:\n",
    "            raise IndexError(\"Queue underflow\")\n",
    "        x = self.head\n",
    "        self.head = self.head.next\n",
    "        if not self.head:\n",
    "            self.tail = None\n",
    "        return x\n"
   ]
  },
  {
   "cell_type": "markdown",
   "id": "d5b4ad6f",
   "metadata": {},
   "source": [
    "### Dynamic Array Stack (Resizing)"
   ]
  },
  {
   "cell_type": "markdown",
   "id": "d7d75166",
   "metadata": {},
   "source": [
    "Pseudocode:\n",
    "INIT-DYNSTACK():\n",
    "  capacity ← 1; A[0…0]; n ← 0\n",
    "\n",
    "PUSH(x):\n",
    "  if n = capacity:\n",
    "    resize(2·capacity)\n",
    "  A[n] ← x; n ← n + 1\n",
    "\n",
    "POP():\n",
    "  if n = 0: error “underflow”\n",
    "  x ← A[n−1]; n ← n − 1\n",
    "  if n > 0 and n = capacity/4:\n",
    "    resize(capacity/2)\n",
    "  return x\n",
    "\n",
    "resize(newCap):\n",
    "  B ← new array of size newCap\n",
    "  copy A[0…n−1] to B\n",
    "  A ← B; capacity ← newCap\n"
   ]
  },
  {
   "cell_type": "code",
   "execution_count": null,
   "id": "5993496a",
   "metadata": {},
   "outputs": [],
   "source": [
    "class DynamicArrayStack:\n",
    "    def __init__(self):\n",
    "        self.A = [None]\n",
    "        self.n = 0\n",
    "\n",
    "    def push(self, x):\n",
    "        if self.n == len(self.A):\n",
    "            self._resize(2 * len(self.A))\n",
    "        self.A[self.n] = x\n",
    "        self.n += 1\n",
    "\n",
    "    def pop(self):\n",
    "        if self.n == 0:\n",
    "            raise IndexError(\"Stack underflow\")\n",
    "        x = self.A[self.n - 1]\n",
    "        self.n -= 1\n",
    "        if 0 < self.n == len(self.A) // 4:\n",
    "            self._resize(len(self.A) // 2)\n",
    "        return x\n",
    "\n",
    "    def _resize(self, new_cap):\n",
    "        B = [None] * new_cap\n",
    "        for i in range(self.n):\n",
    "            B[i] = self.A[i]\n",
    "        self.A = B\n"
   ]
  }
 ],
 "metadata": {
  "language_info": {
   "name": "python"
  }
 },
 "nbformat": 4,
 "nbformat_minor": 5
}
