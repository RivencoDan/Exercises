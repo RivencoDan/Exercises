{
 "cells": [
  {
   "cell_type": "markdown",
   "id": "7986e8a3",
   "metadata": {},
   "source": [
    "### Graphs Representation "
   ]
  },
  {
   "cell_type": "markdown",
   "id": "1688650b",
   "metadata": {},
   "source": [
    "#### Properties\n",
    "Adjacency List: for each vertex u, store a list of its neighbors. $\\newline$\n",
    "Adjacency Matrix: an n×n boolean array M, where $M[u][v]=1 iff (u,v)∈E$.\n"
   ]
  },
  {
   "cell_type": "markdown",
   "id": "64d32117",
   "metadata": {},
   "source": [
    "### Building the adjacencies components:"
   ]
  },
  {
   "cell_type": "markdown",
   "id": "32271882",
   "metadata": {},
   "source": [
    "Pseudocode:\n",
    "INPUT: edge list E, number of vertices n\n",
    "1. // Adjacency List\n",
    "   for u in 0…n−1:\n",
    "     Adj[u] ← empty list\n",
    "   for each (u,v) in E:\n",
    "     Adj[u].append(v)\n",
    "     Adj[v].append(u)          // if undirected\n",
    "\n",
    "2. // Adjacency Matrix\n",
    "   for u in 0…n−1:\n",
    "     for v in 0…n−1:\n",
    "       M[u][v] ← 0\n",
    "   for each (u,v) in E:\n",
    "     M[u][v] ← 1\n",
    "     M[v][u] ← 1               // if undirected\n"
   ]
  },
  {
   "cell_type": "code",
   "execution_count": null,
   "id": "cf4195e6",
   "metadata": {},
   "outputs": [],
   "source": [
    "def build_graph(edges, n):\n",
    "    # edges: list of (u,v), vertices 0…n−1\n",
    "    Adj = [[] for _ in range(n)]\n",
    "    M   = [[0]*n for _ in range(n)]\n",
    "    for u,v in edges:\n",
    "        Adj[u].append(v)\n",
    "        Adj[v].append(u)\n",
    "        M[u][v] = 1\n",
    "        M[v][u] = 1\n",
    "    return Adj, M\n"
   ]
  },
  {
   "cell_type": "markdown",
   "id": "6d1e3c81",
   "metadata": {},
   "source": [
    "### Depth-First Search\n",
    "(traverses all reachable vertices, records discovery/finish for each)"
   ]
  },
  {
   "cell_type": "markdown",
   "id": "28ca279f",
   "metadata": {},
   "source": [
    "#### Recurisive DFS"
   ]
  },
  {
   "cell_type": "markdown",
   "id": "c203f40b",
   "metadata": {},
   "source": [
    "Pseudocode:\n",
    "GLOBAL time ← 0\n",
    "for u in 0…n−1:\n",
    "  color[u] ← WHITE\n",
    "DFS():\n",
    "  for u in 0…n−1:\n",
    "    if color[u]==WHITE:\n",
    "      DFS-Visit(u)\n",
    "\n",
    "FUNCTION DFS-Visit(u):\n",
    "  color[u] ← GRAY\n",
    "  discovery[u] ← ++time\n",
    "  for v in sorted(Adj[u]):\n",
    "    if color[v]==WHITE:\n",
    "      parent[v] ← u\n",
    "      DFS-Visit(v)\n",
    "  color[u] ← BLACK\n",
    "  finish[u] ← ++time\n"
   ]
  },
  {
   "cell_type": "code",
   "execution_count": null,
   "id": "b8bda9f1",
   "metadata": {},
   "outputs": [],
   "source": [
    "def dfs(Adj):\n",
    "    n = len(Adj)\n",
    "    color = ['W']*n\n",
    "    disc = [0]*n\n",
    "    fin  = [0]*n\n",
    "    parent = [None]*n\n",
    "    time = 0\n",
    "\n",
    "    def visit(u):\n",
    "        nonlocal time\n",
    "        color[u] = 'G'\n",
    "        time += 1; disc[u] = time\n",
    "        for v in sorted(Adj[u]):\n",
    "            if color[v]=='W':\n",
    "                parent[v] = u\n",
    "                visit(v)\n",
    "        color[u] = 'B'\n",
    "        time += 1; fin[u] = time\n",
    "\n",
    "    for u in range(n):\n",
    "        if color[u]=='W':\n",
    "            visit(u)\n",
    "    return parent, disc, fin\n"
   ]
  },
  {
   "cell_type": "markdown",
   "id": "724ea584",
   "metadata": {},
   "source": [
    "#### Iterative DFS"
   ]
  },
  {
   "cell_type": "markdown",
   "id": "b3f64f5c",
   "metadata": {},
   "source": [
    "Pseudocode:\n",
    "FUNCTION DFS-Iterative(s):\n",
    "  for u in 0…n−1: visited[u]=false\n",
    "  stack ← empty\n",
    "  PUSH(stack, s)\n",
    "  while stack not empty:\n",
    "    u ← POP(stack)\n",
    "    if not visited[u]:\n",
    "      visited[u]=true\n",
    "      for v in sorted(Adj[u], descending):\n",
    "        if not visited[v]:\n",
    "          parent[v]=u\n",
    "          PUSH(stack, v)\n"
   ]
  },
  {
   "cell_type": "code",
   "execution_count": null,
   "id": "012046aa",
   "metadata": {},
   "outputs": [],
   "source": [
    "def dfs_iterative(Adj, s=0):\n",
    "    n = len(Adj)\n",
    "    visited = [False]*n\n",
    "    parent = [None]*n\n",
    "    stack = [s]\n",
    "    while stack:\n",
    "        u = stack.pop()\n",
    "        if not visited[u]:\n",
    "            visited[u] = True\n",
    "            for v in sorted(Adj[u], reverse=True):\n",
    "                if not visited[v]:\n",
    "                    parent[v] = u\n",
    "                    stack.append(v)\n",
    "    return parent\n"
   ]
  },
  {
   "cell_type": "markdown",
   "id": "eda9f573",
   "metadata": {},
   "source": [
    "### Breadth-First Search \n",
    "(used for shortest path tree in unweighted graph)"
   ]
  },
  {
   "cell_type": "markdown",
   "id": "80483991",
   "metadata": {},
   "source": [
    "Pseudocode:\n",
    "FUNCTION BFS(s):\n",
    "  for u in 0…n−1:\n",
    "    dist[u] = ∞; parent[u]=null\n",
    "  dist[s] = 0\n",
    "  Q ← empty queue\n",
    "  ENQUEUE(Q, s)\n",
    "  while Q not empty:\n",
    "    u ← DEQUEUE(Q)\n",
    "    for v in sorted(Adj[u]):\n",
    "      if dist[v]==∞:\n",
    "        dist[v] = dist[u]+1\n",
    "        parent[v] = u\n",
    "        ENQUEUE(Q, v)\n"
   ]
  },
  {
   "cell_type": "code",
   "execution_count": null,
   "id": "5524af39",
   "metadata": {},
   "outputs": [],
   "source": [
    "from collections import deque\n",
    "\n",
    "def bfs(Adj, s=0):\n",
    "    n = len(Adj)\n",
    "    dist = [None]*n\n",
    "    parent = [None]*n\n",
    "    dist[s] = 0\n",
    "    Q = deque([s])\n",
    "    while Q:\n",
    "        u = Q.popleft()\n",
    "        for v in sorted(Adj[u]):\n",
    "            if dist[v] is None:\n",
    "                dist[v] = dist[u] + 1\n",
    "                parent[v] = u\n",
    "                Q.append(v)\n",
    "    return parent, dist\n"
   ]
  },
  {
   "cell_type": "markdown",
   "id": "3b2c4c89",
   "metadata": {},
   "source": [
    "### Cycle Detection in Undirected Graph"
   ]
  },
  {
   "cell_type": "markdown",
   "id": "27eec01d",
   "metadata": {},
   "source": [
    "Tests if any cycle exists; DFS, but ignore edge back to parent "
   ]
  },
  {
   "cell_type": "markdown",
   "id": "c5b3e8e7",
   "metadata": {},
   "source": [
    "Pseudoceode:\n",
    "for u in 0…n−1: visited[u]=false\n",
    "FUNCTION DFS-Cycle(u, p):\n",
    "  visited[u]=true\n",
    "  for v in Adj[u]:\n",
    "    if not visited[v]:\n",
    "      if DFS-Cycle(v, u): return true\n",
    "    else if v ≠ p:\n",
    "      return true\n",
    "  return false\n",
    "\n",
    "for u in 0…n−1:\n",
    "  if not visited[u] and DFS-Cycle(u, -1):\n",
    "    return true\n",
    "return false\n"
   ]
  },
  {
   "cell_type": "code",
   "execution_count": null,
   "id": "d838a9b8",
   "metadata": {},
   "outputs": [],
   "source": [
    "def has_cycle(Adj):\n",
    "    n = len(Adj)\n",
    "    visited = [False]*n\n",
    "    def dfs(u, p):\n",
    "        visited[u] = True\n",
    "        for v in Adj[u]:\n",
    "            if not visited[v]:\n",
    "                if dfs(v, u):\n",
    "                    return True\n",
    "            elif v != p:\n",
    "                return True\n",
    "        return False\n",
    "\n",
    "    for u in range(n):\n",
    "        if not visited[u]:\n",
    "            if dfs(u, -1):\n",
    "                return True\n",
    "    return False\n"
   ]
  },
  {
   "cell_type": "markdown",
   "id": "2cf15a39",
   "metadata": {},
   "source": [
    "### Number of Shortest Paths between s and t\n",
    "Counts how many distinct shortest length paths; augment BFS"
   ]
  },
  {
   "cell_type": "markdown",
   "id": "84537fb3",
   "metadata": {},
   "source": [
    "Pseudocode:\n",
    "for u: dist[u]=∞; count[u]=0\n",
    "dist[s]=0; count[s]=1\n",
    "Q ← [s]\n",
    "while Q:\n",
    "  u ← DEQUEUE(Q)\n",
    "  for v in Adj[u]:\n",
    "    if dist[v]==∞:\n",
    "      dist[v]=dist[u]+1\n",
    "      count[v]=count[u]\n",
    "      ENQUEUE(Q,v)\n",
    "    else if dist[v]==dist[u]+1:\n",
    "      count[v] += count[u]\n",
    "return count[t]\n"
   ]
  },
  {
   "cell_type": "code",
   "execution_count": null,
   "id": "6569ae9d",
   "metadata": {},
   "outputs": [],
   "source": [
    "from collections import deque\n",
    "\n",
    "def num_shortest_paths(Adj, s, t):\n",
    "    n = len(Adj)\n",
    "    dist = [None]*n\n",
    "    count = [0]*n\n",
    "    dist[s] = 0; count[s] = 1\n",
    "    Q = deque([s])\n",
    "    while Q:\n",
    "        u = Q.popleft()\n",
    "        for v in Adj[u]:\n",
    "            if dist[v] is None:\n",
    "                dist[v] = dist[u] + 1\n",
    "                count[v] = count[u]\n",
    "                Q.append(v)\n",
    "            elif dist[v] == dist[u] + 1:\n",
    "                count[v] += count[u]\n",
    "    return count[t]\n"
   ]
  }
 ],
 "metadata": {
  "language_info": {
   "name": "python"
  }
 },
 "nbformat": 4,
 "nbformat_minor": 5
}
