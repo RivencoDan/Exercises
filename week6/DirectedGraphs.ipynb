{
 "cells": [
  {
   "cell_type": "markdown",
   "id": "715312a9",
   "metadata": {},
   "source": [
    "### 1.1 Adjacency List and Matrix"
   ]
  },
  {
   "cell_type": "markdown",
   "id": "7a007f2a",
   "metadata": {},
   "source": [
    "Pseudocode:\n",
    "INPUT: directed edge list E of pairs (u,v), vertex count n\n",
    "\n",
    "// Build adjacency list\n",
    "for u in 0…n–1:\n",
    "  Adj[u] ← empty list\n",
    "for each (u,v) in E:\n",
    "  Adj[u].append(v)\n",
    "\n",
    "// Build adjacency matrix\n",
    "for u in 0…n–1:\n",
    "  for v in 0…n–1:\n",
    "    M[u][v] ← 0\n",
    "for each (u,v) in E:\n",
    "  M[u][v] ← 1\n",
    "\n"
   ]
  },
  {
   "cell_type": "code",
   "execution_count": null,
   "id": "29dce6be",
   "metadata": {},
   "outputs": [],
   "source": [
    "def build_graph(E, n):\n",
    "    Adj = [[] for _ in range(n)]\n",
    "    M   = [[0]*n for _ in range(n)]\n",
    "    for u, v in E:\n",
    "        Adj[u].append(v)\n",
    "        M[u][v] = 1\n",
    "    return Adj, M\n"
   ]
  },
  {
   "cell_type": "markdown",
   "id": "3508b254",
   "metadata": {},
   "source": [
    "### 1.2 DFS/BFS from a given start "
   ]
  },
  {
   "cell_type": "markdown",
   "id": "0ce82960",
   "metadata": {},
   "source": [
    "#### Recursive DFS"
   ]
  },
  {
   "cell_type": "markdown",
   "id": "9935ae8f",
   "metadata": {},
   "source": [
    "Pseudocode:\n",
    "GLOBAL time ← 0\n",
    "for u in 0…n–1: color[u]←WHITE\n",
    "DFS():\n",
    "  for u in 0…n–1:\n",
    "    if color[u]==WHITE:\n",
    "      DFS-Visit(u)\n",
    "\n",
    "FUNCTION DFS-Visit(u):\n",
    "  color[u]←GRAY; time←time+1; disc[u]←time\n",
    "  for v in Adj[u]:\n",
    "    if color[v]==WHITE:\n",
    "      parent[v]←u\n",
    "      DFS-Visit(v)\n",
    "  color[u]←BLACK; time←time+1; finish[u]←time\n"
   ]
  },
  {
   "cell_type": "code",
   "execution_count": null,
   "id": "1a301270",
   "metadata": {},
   "outputs": [],
   "source": [
    "def dfs(Adj):\n",
    "    n = len(Adj)\n",
    "    color = ['W']*n; parent = [None]*n\n",
    "    disc = [0]*n; finish = [0]*n; time = 0\n",
    "\n",
    "    def visit(u):\n",
    "        nonlocal time\n",
    "        color[u] = 'G'; time += 1; disc[u] = time\n",
    "        for v in Adj[u]:\n",
    "            if color[v] == 'W':\n",
    "                parent[v] = u\n",
    "                visit(v)\n",
    "        color[u] = 'B'; time += 1; finish[u] = time\n",
    "\n",
    "    for u in range(n):\n",
    "        if color[u] == 'W':\n",
    "            visit(u)\n",
    "    return parent, disc, finish\n"
   ]
  },
  {
   "cell_type": "markdown",
   "id": "d3f87cc6",
   "metadata": {},
   "source": [
    "#### Iterative BFS"
   ]
  },
  {
   "cell_type": "markdown",
   "id": "cdf963d2",
   "metadata": {},
   "source": [
    "Pseudocode:\n",
    "FUNCTION BFS(s):\n",
    "  for u in 0…n–1: dist[u]←∞; parent[u]←null\n",
    "  dist[s]←0; Q←empty queue; ENQUEUE(Q,s)\n",
    "  while Q not empty:\n",
    "    u←DEQUEUE(Q)\n",
    "    for v in Adj[u]:\n",
    "      if dist[v]==∞:\n",
    "        dist[v]←dist[u]+1\n",
    "        parent[v]←u\n",
    "        ENQUEUE(Q,v)"
   ]
  },
  {
   "cell_type": "code",
   "execution_count": null,
   "id": "7fd9bebe",
   "metadata": {},
   "outputs": [],
   "source": [
    "from collections import deque\n",
    "\n",
    "def bfs(Adj, s=0):\n",
    "    n = len(Adj)\n",
    "    dist = [None]*n; parent = [None]*n\n",
    "    dist[s] = 0\n",
    "    Q = deque([s])\n",
    "    while Q:\n",
    "        u = Q.popleft()\n",
    "        for v in Adj[u]:\n",
    "            if dist[v] is None:\n",
    "                dist[v] = dist[u] + 1\n",
    "                parent[v] = u\n",
    "                Q.append(v)\n",
    "    return parent, dist\n"
   ]
  },
  {
   "cell_type": "markdown",
   "id": "be3b77d4",
   "metadata": {},
   "source": [
    "### 1.4 Topological Sort "
   ]
  },
  {
   "cell_type": "markdown",
   "id": "35a8153e",
   "metadata": {},
   "source": [
    "#### DFS-Based:\n",
    "CALL DFS to compute finish[u] for all u\n",
    "Return nodes in decreasing order of finish[u]\n"
   ]
  },
  {
   "cell_type": "markdown",
   "id": "b242dfcc",
   "metadata": {},
   "source": [
    "#### Kahn's Algorithm"
   ]
  },
  {
   "cell_type": "markdown",
   "id": "67036f14",
   "metadata": {},
   "source": [
    "compute indegree[u] for all u\n",
    "Q ← all u with indegree[u]==0\n",
    "topo ← empty list\n",
    "while Q not empty:\n",
    "  u←DEQUEUE(Q); append u to topo\n",
    "  for v in Adj[u]:\n",
    "    indegree[v]←indegree[v]−1\n",
    "    if indegree[v]==0: ENQUEUE(Q,v)\n",
    "if |topo|<n: error “cycle”; else return topo\n"
   ]
  },
  {
   "cell_type": "code",
   "execution_count": null,
   "id": "23990902",
   "metadata": {},
   "outputs": [],
   "source": [
    "def topological_sort_kahn(Adj):\n",
    "    n = len(Adj)\n",
    "    indegree = [0]*n\n",
    "    for u in range(n):\n",
    "        for v in Adj[u]:\n",
    "            indegree[v] += 1\n",
    "    from collections import deque\n",
    "    Q = deque(u for u in range(n) if indegree[u]==0)\n",
    "    topo = []\n",
    "    while Q:\n",
    "        u = Q.popleft()\n",
    "        topo.append(u)\n",
    "        for v in Adj[u]:\n",
    "            indegree[v] -= 1\n",
    "            if indegree[v] == 0:\n",
    "                Q.append(v)\n",
    "    if len(topo) < n:\n",
    "        raise ValueError(\"Graph has a cycle\")\n",
    "    return topo\n"
   ]
  },
  {
   "cell_type": "markdown",
   "id": "7ab99b67",
   "metadata": {},
   "source": [
    "### 3. Directed Acyclic Graphs(DAGs)"
   ]
  },
  {
   "cell_type": "markdown",
   "id": "8b2d3954",
   "metadata": {},
   "source": [
    "#### 3.1 Cycle Detection and DAG Test\n",
    "A directed graph is a DAG iff it has no directed cycle. We detect cycles via DFS back-edges."
   ]
  },
  {
   "cell_type": "markdown",
   "id": "8bd4da5d",
   "metadata": {},
   "source": [
    "Pseudocode:\n",
    "for u in V: color[u] ← WHITE\n",
    "\n",
    "FUNCTION IS-DAG(Adj):\n",
    "  for u in V:\n",
    "    if color[u] = WHITE and DFS-CYCLE(u):\n",
    "      return false\n",
    "  return true\n",
    "\n",
    "FUNCTION DFS-CYCLE(u):\n",
    "  color[u] ← GRAY\n",
    "  for v in Adj[u]:\n",
    "    if color[v] = GRAY:       // back‐edge\n",
    "      return true\n",
    "    if color[v] = WHITE:\n",
    "      if DFS-CYCLE(v):\n",
    "        return true\n",
    "  color[u] ← BLACK\n",
    "  return false\n"
   ]
  },
  {
   "cell_type": "code",
   "execution_count": null,
   "id": "910cfaac",
   "metadata": {},
   "outputs": [],
   "source": [
    "def is_dag(Adj):\n",
    "    n = len(Adj)\n",
    "    color = [0]*n  # 0=white, 1=gray, 2=black\n",
    "\n",
    "    def dfs(u):\n",
    "        color[u] = 1\n",
    "        for v in Adj[u]:\n",
    "            if color[v] == 1:\n",
    "                return False\n",
    "            if color[v] == 0 and not dfs(v):\n",
    "                return False\n",
    "        color[u] = 2\n",
    "        return True\n",
    "\n",
    "    return all(dfs(u) for u in range(n) if color[u] == 0)\n",
    "def is_dag(Adj):\n",
    "    n = len(Adj)\n",
    "    color = [0]*n  # 0=white, 1=gray, 2=black\n",
    "\n",
    "    def dfs(u):\n",
    "        color[u] = 1\n",
    "        for v in Adj[u]:\n",
    "            if color[v] == 1:\n",
    "                return False\n",
    "            if color[v] == 0 and not dfs(v):\n",
    "                return False\n",
    "        color[u] = 2\n",
    "        return True\n",
    "\n",
    "    return all(dfs(u) for u in range(n) if color[u] == 0)\n"
   ]
  }
 ],
 "metadata": {
  "language_info": {
   "name": "python"
  }
 },
 "nbformat": 4,
 "nbformat_minor": 5
}
