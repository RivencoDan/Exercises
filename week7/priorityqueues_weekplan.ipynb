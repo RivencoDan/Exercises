{
 "cells": [
  {
   "cell_type": "markdown",
   "id": "f83772be",
   "metadata": {},
   "source": [
    "# Priority Queues & Heaps Week-plan\n",
    "\n",
    "This notebook consolidates all theory, pseudocode, and Python implementations for priority queues and heaps."
   ]
  },
  {
   "cell_type": "markdown",
   "id": "bba9da98",
   "metadata": {},
   "source": [
    "## 1. Binary Heaps & Basic Priority-Queue Operations\n",
    "\n",
    "**Heap Representation & Properties**\n",
    "- A **binary heap** is a complete binary tree stored in an array `A[1…n]`.\n",
    "- Parent/child relationship:\n",
    "  - Parent of node `i` is at `⌊i/2⌋`.\n",
    "  - Children of `i` are at `2i` (left) and `2i+1` (right), if ≤ `n`.\n",
    "- **Max-heap property**: `A[parent(i)] ≥ A[i]` for all `i>1`.\n",
    "- Height `h = ⌊log₂ n⌋`; number of nodes `n = 2^{h+1} – 1`."
   ]
  },
  {
   "cell_type": "markdown",
   "id": "884e8df7",
   "metadata": {},
   "source": [
    "### 1.1 MAX-HEAPIFY (O(log n))\n",
    "Restores the max-heap property at node `i`, assuming its children are roots of valid heaps.\n",
    "```text\n",
    "MAX-HEAPIFY(A, i, n):\n",
    "  l ← 2i; r ← 2i+1\n",
    "  largest ← i\n",
    "  if l ≤ n and A[l] > A[largest]:\n",
    "    largest ← l\n",
    "  if r ≤ n and A[r] > A[largest]:\n",
    "    largest ← r\n",
    "  if largest ≠ i:\n",
    "    swap A[i], A[largest]\n",
    "    MAX-HEAPIFY(A, largest, n)\n",
    "```"
   ]
  },
  {
   "cell_type": "code",
   "execution_count": null,
   "id": "cf688cbc",
   "metadata": {},
   "outputs": [],
   "source": [
    "def max_heapify(A, i, heap_size):\n",
    "    l, r = 2*i, 2*i + 1\n",
    "    largest = i\n",
    "    if l <= heap_size and A[l] > A[largest]:\n",
    "        largest = l\n",
    "    if r <= heap_size and A[r] > A[largest]:\n",
    "        largest = r\n",
    "    if largest != i:\n",
    "        A[i], A[largest] = A[largest], A[i]\n",
    "        max_heapify(A, largest, heap_size)"
   ]
  },
  {
   "cell_type": "markdown",
   "id": "f87f839f",
   "metadata": {},
   "source": [
    "### 1.2 BUILD-MAX-HEAP (O(n))\n",
    "Transforms an unordered array into a max-heap.\n",
    "```text\n",
    "BUILD-MAX-HEAP(A):\n",
    "  heap_size ← n\n",
    "  for i from ⌊n/2⌋ downto 1:\n",
    "    MAX-HEAPIFY(A, i, heap_size)\n",
    "```"
   ]
  },
  {
   "cell_type": "code",
   "execution_count": null,
   "id": "b725f1ed",
   "metadata": {},
   "outputs": [],
   "source": [
    "def build_max_heap(A):\n",
    "    heap_size = len(A) - 1\n",
    "    for i in range(heap_size//2, 0, -1):\n",
    "        max_heapify(A, i, heap_size)\n",
    "    return heap_size"
   ]
  },
  {
   "cell_type": "markdown",
   "id": "8787a46c",
   "metadata": {},
   "source": [
    "### 1.3 HEAP-EXTRACT-MAX & HEAP-INCREASE-KEY (O(log n))\n",
    "```text\n",
    "HEAP-EXTRACT-MAX(A):\n",
    "  if heap_size < 1: error\n",
    "  max ← A[1]\n",
    "  A[1] ← A[heap_size]\n",
    "  heap_size ← heap_size−1\n",
    "  MAX-HEAPIFY(A, 1, heap_size)\n",
    "  return max\n",
    "\n",
    "HEAP-INCREASE-KEY(A, i, key):\n",
    "  if key < A[i]: error\n",
    "  A[i] ← key\n",
    "  while i>1 and A[parent(i)] < A[i]:\n",
    "    swap A[i], A[parent(i)]\n",
    "    i ← parent(i)\n",
    "```"
   ]
  },
  {
   "cell_type": "code",
   "execution_count": null,
   "id": "6ee6c3eb",
   "metadata": {},
   "outputs": [],
   "source": [
    "def heap_extract_max(A, heap_size):\n",
    "    if heap_size < 1:\n",
    "        raise IndexError(\"Underflow\")\n",
    "    maximum = A[1]\n",
    "    A[1] = A[heap_size]\n",
    "    heap_size -= 1\n",
    "    max_heapify(A, 1, heap_size)\n",
    "    return maximum, heap_size\n",
    "\n",
    "def heap_increase_key(A, i, key):\n",
    "    if key < A[i]:\n",
    "        raise ValueError(\"New key smaller than current\")\n",
    "    A[i] = key\n",
    "    while i > 1 and A[i//2] < A[i]:\n",
    "        A[i], A[i//2] = A[i//2], A[i]\n",
    "        i //= 2"
   ]
  },
  {
   "cell_type": "markdown",
   "id": "46607c8f",
   "metadata": {},
   "source": [
    "### 1.4 MAX-HEAP-INSERT (O(log n))\n",
    "```text\n",
    "MAX-HEAP-INSERT(A, key):\n",
    "  heap_size ← heap_size+1\n",
    "  A[heap_size] ← −∞\n",
    "  HEAP-INCREASE-KEY(A, heap_size, key)\n",
    "```"
   ]
  },
  {
   "cell_type": "code",
   "execution_count": null,
   "id": "2ed4486a",
   "metadata": {},
   "outputs": [],
   "source": [
    "def max_heap_insert(A, heap_size, key):\n",
    "    heap_size += 1\n",
    "    A[heap_size] = float('-inf')\n",
    "    heap_increase_key(A, heap_size, key)\n",
    "    return heap_size"
   ]
  },
  {
   "cell_type": "markdown",
   "id": "d9f61fcb",
   "metadata": {},
   "source": [
    "## 2. Merging k Sorted Arrays in O(n log k)\n",
    "Use a min-heap of size k to merge.\n",
    "```text\n",
    "MERGE-K-ARRAYS(lists[1…k]):\n",
    "  create empty min-heap H\n",
    "  for i from 1 to k:\n",
    "    if lists[i] nonempty:\n",
    "      H.insert( (lists[i][0], i, 0) )\n",
    "  result ← []\n",
    "  while H not empty:\n",
    "    (v, i, j) ← H.extract_min()\n",
    "    append v to result\n",
    "    if j+1 < len(lists[i]):\n",
    "      H.insert( (lists[i][j+1], i, j+1) )\n",
    "  return result\n",
    "```"
   ]
  },
  {
   "cell_type": "code",
   "execution_count": null,
   "id": "a2251bf7",
   "metadata": {},
   "outputs": [],
   "source": [
    "import heapq\n",
    "\n",
    "def merge_k_sorted(lists):\n",
    "    H = []\n",
    "    for i, lst in enumerate(lists):\n",
    "        if lst:\n",
    "            heapq.heappush(H, (lst[0], i, 0))\n",
    "    result = []\n",
    "    while H:\n",
    "        v, i, j = heapq.heappop(H)\n",
    "        result.append(v)\n",
    "        if j+1 < len(lists[i]):\n",
    "            heapq.heappush(H, (lists[i][j+1], i, j+1))\n",
    "    return result"
   ]
  },
  {
   "cell_type": "markdown",
   "id": "ebbb70f2",
   "metadata": {},
   "source": [
    "## 3. Extended Priority-Queue Operations\n",
    "**DELETE(i)**: \n",
    "```text\n",
    "DELETE(A, i):\n",
    "  HEAP-INCREASE-KEY(A, i, +∞)\n",
    "  HEAP-EXTRACT-MAX(A)\n",
    "```\n",
    "**FUSION(i, j)**: \n",
    "```text\n",
    "FUSION(A, i, j):\n",
    "  xi ← extract max at i\n",
    "  xj ← extract max at j\n",
    "  insert(xi + xj)\n",
    "```\n",
    "**THRESHOLD(k)** in O(m):\n",
    "```text\n",
    "THRESHOLD(A, heap_size, k):\n",
    "  result ← []\n",
    "  queue ← [1]\n",
    "  while queue not empty:\n",
    "    i ← dequeue(queue)\n",
    "    if i>heap_size or A[i] < k: continue\n",
    "    append A[i] to result\n",
    "    enqueue(queue, 2i); enqueue(queue, 2i+1)\n",
    "  return result\n",
    "```"
   ]
  },
  {
   "cell_type": "code",
   "execution_count": null,
   "id": "3d7c8065",
   "metadata": {},
   "outputs": [],
   "source": [
    "from collections import deque\n",
    "\n",
    "def threshold(A, heap_size, k):\n",
    "    res = []\n",
    "    Q = deque([1])\n",
    "    while Q:\n",
    "        i = Q.popleft()\n",
    "        if i > heap_size or A[i] < k:\n",
    "            continue\n",
    "        res.append(A[i])\n",
    "        Q.append(2*i)\n",
    "        Q.append(2*i+1)\n",
    "    return res"
   ]
  },
  {
   "cell_type": "markdown",
   "id": "8319f612",
   "metadata": {},
   "source": [
    "## 4. Satellite Data\n",
    "Store satellite data with each key, e.g., tuples `(key, data)`. Heap operations compare on `key`. Use parallel arrays or tuple swapping as needed."
   ]
  },
  {
   "cell_type": "markdown",
   "id": "b9a6548b",
   "metadata": {},
   "source": [
    "## 5. Heap-Size & Height Relations\n",
    "- Nodes `n = 2^{h+1} - 1` for height `h`.\n",
    "- Height `h = ⌊log₂ n⌋`.\n",
    "- Build-heap runs in `O(n)` via level-by-level heapify summation."
   ]
  },
  {
   "cell_type": "markdown",
   "id": "d28fdf6b",
   "metadata": {},
   "source": [
    "## 6. Task Delegation via Max-Heap\n",
    "Support `NEWTASK(id, diff)` and `REQUESTTASK()` by maintaining a max-heap of `(diff, id)`."
   ]
  },
  {
   "cell_type": "code",
   "execution_count": null,
   "id": "804a05b2",
   "metadata": {},
   "outputs": [],
   "source": [
    "import heapq\n",
    "\n",
    "class TaskDelegator:\n",
    "    def __init__(self):\n",
    "        self.H = []  # min-heap on -diff\n",
    "    def new_task(self, tid, diff):\n",
    "        heapq.heappush(self.H, (-diff, tid))\n",
    "    def request_task(self):\n",
    "        if not self.H:\n",
    "            return None\n",
    "        diff, tid = heapq.heappop(self.H)\n",
    "        return tid"
   ]
  },
  {
   "cell_type": "markdown",
   "id": "1917b69e",
   "metadata": {},
   "source": [
    "## 7. Range-Sum Queries & Point Updates\n",
    "### 7.1 Fenwick Tree (BIT)\n",
    "O(log n) updates & prefix-sum queries."
   ]
  },
  {
   "cell_type": "code",
   "execution_count": null,
   "id": "7af074c6",
   "metadata": {},
   "outputs": [],
   "source": [
    "class Fenwick:\n",
    "    def __init__(self, A):\n",
    "        self.n = len(A)\n",
    "        self.B = [0]*(self.n+1)\n",
    "        for i, v in enumerate(A, 1):\n",
    "            self._update(i, v)\n",
    "    def _update(self, i, delta):\n",
    "        while i <= self.n:\n",
    "            self.B[i] += delta\n",
    "            i += i & -i\n",
    "    def change(self, i, x):\n",
    "        old = self.query(i, i)\n",
    "        self._update(i+1, x-old)\n",
    "    def prefix(self, i):\n",
    "        s = 0\n",
    "        i += 1\n",
    "        while i > 0:\n",
    "            s += self.B[i]\n",
    "            i -= i & -i\n",
    "        return s\n",
    "    def query(self, i, j):\n",
    "        return self.prefix(j) - (self.prefix(i-1) if i else 0)"
   ]
  },
  {
   "cell_type": "markdown",
   "id": "943cf954",
   "metadata": {},
   "source": [
    "### 7.2 Segment Tree\n",
    "O(log n) updates & range-sum queries."
   ]
  },
  {
   "cell_type": "code",
   "execution_count": null,
   "id": "450235c1",
   "metadata": {},
   "outputs": [],
   "source": [
    "class SegTree:\n",
    "    def __init__(self, A):\n",
    "        n = len(A)\n",
    "        size = 1\n",
    "        while size < n:\n",
    "            size *= 2\n",
    "        self.N = size\n",
    "        self.T = [0]*(2*size)\n",
    "        for i, v in enumerate(A):\n",
    "            self.T[size+i] = v\n",
    "        for i in range(size-1, 0, -1):\n",
    "            self.T[i] = self.T[2*i] + self.T[2*i+1]\n",
    "    def change(self, i, x):\n",
    "        p = self.N + i\n",
    "        self.T[p] = x\n",
    "        while p > 1:\n",
    "            p //= 2\n",
    "            self.T[p] = self.T[2*p] + self.T[2*p+1]\n",
    "    def sum(self, l, r):\n",
    "        res = 0\n",
    "        l += self.N; r += self.N\n",
    "        while l <= r:\n",
    "            if l & 1:\n",
    "                res += self.T[l]; l += 1\n",
    "            if not r & 1:\n",
    "                res += self.T[r]; r -= 1\n",
    "            l //= 2; r //= 2\n",
    "        return res"
   ]
  }
 ],
 "metadata": {
  "language_info": {
   "name": "python"
  }
 },
 "nbformat": 4,
 "nbformat_minor": 5
}
