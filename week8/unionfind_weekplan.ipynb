{
 "cells": [
  {
   "cell_type": "markdown",
   "id": "4cbafb45",
   "metadata": {},
   "source": [
    "# Union-Find Week-plan\n",
    "\n",
    "This notebook consolidates all key theory, pseudocode, and Python implementations for the Union-Find (Disjoint Set Union) data structure, covering all topics from the week-plan."
   ]
  },
  {
   "cell_type": "markdown",
   "id": "e3184849",
   "metadata": {},
   "source": [
    "## 1. Quick Find\n",
    "\n",
    "**Idea**: Maintain an array `id[]` where `id[i]` is the set identifier for element `i`.  \n",
    "**FIND** is O(1); **UNION** is O(n)."
   ]
  },
  {
   "cell_type": "markdown",
   "id": "8a161809",
   "metadata": {},
   "source": [
    "**Pseudocode**\n",
    "```text\n",
    "INIT(n):\n",
    "  for i in 0…n-1:\n",
    "    id[i] ← i\n",
    "\n",
    "FIND(i):\n",
    "  return id[i]\n",
    "\n",
    "UNION(p, q):\n",
    "  pid ← FIND(p)\n",
    "  qid ← FIND(q)\n",
    "  if pid == qid: return\n",
    "  for i in 0…n-1:\n",
    "    if id[i] == pid:\n",
    "      id[i] ← qid\n",
    "```"
   ]
  },
  {
   "cell_type": "code",
   "execution_count": null,
   "id": "592c7d08",
   "metadata": {},
   "outputs": [],
   "source": [
    "class QuickFindUF:\n",
    "    def __init__(self, n):\n",
    "        self.id = list(range(n))\n",
    "    def find(self, i):\n",
    "        return self.id[i]\n",
    "    def union(self, p, q):\n",
    "        pid, qid = self.find(p), self.find(q)\n",
    "        if pid == qid:\n",
    "            return\n",
    "        for i in range(len(self.id)):\n",
    "            if self.id[i] == pid:\n",
    "                self.id[i] = qid"
   ]
  },
  {
   "cell_type": "markdown",
   "id": "8a54c315",
   "metadata": {},
   "source": [
    "## 2. Quick Union\n",
    "\n",
    "**Idea**: Treat `id[]` as parent links; each element points to its parent.  \n",
    "**FIND** follows parent links to the root (tree); **UNION** makes one root point to the other.  \n",
    "Worst-case tree height O(n)."
   ]
  },
  {
   "cell_type": "markdown",
   "id": "2621e91e",
   "metadata": {},
   "source": [
    "**Pseudocode**\n",
    "```text\n",
    "INIT(n):\n",
    "  for i in 0…n-1:\n",
    "    id[i] ← i\n",
    "\n",
    "FIND(i):\n",
    "  while i != id[i]:\n",
    "    i ← id[i]\n",
    "  return i\n",
    "\n",
    "UNION(p, q):\n",
    "  rootP ← FIND(p)\n",
    "  rootQ ← FIND(q)\n",
    "  if rootP == rootQ: return\n",
    "  id[rootP] ← rootQ\n",
    "```"
   ]
  },
  {
   "cell_type": "code",
   "execution_count": null,
   "id": "dbe9f58c",
   "metadata": {},
   "outputs": [],
   "source": [
    "class QuickUnionUF:\n",
    "    def __init__(self, n):\n",
    "        self.id = list(range(n))\n",
    "    def find(self, i):\n",
    "        while i != self.id[i]:\n",
    "            i = self.id[i]\n",
    "        return i\n",
    "    def union(self, p, q):\n",
    "        rootP, rootQ = self.find(p), self.find(q)\n",
    "        if rootP != rootQ:\n",
    "            self.id[rootP] = rootQ"
   ]
  },
  {
   "cell_type": "markdown",
   "id": "69fa2a2d",
   "metadata": {},
   "source": [
    "## 3. Weighted Quick Union\n",
    "\n",
    "**Idea**: Keep track of tree sizes and always attach the smaller tree under the larger tree to keep height O(log n)."
   ]
  },
  {
   "cell_type": "markdown",
   "id": "5008ee79",
   "metadata": {},
   "source": [
    "**Pseudocode**\n",
    "```text\n",
    "INIT(n):\n",
    "  for i in 0…n-1:\n",
    "    id[i] ← i, sz[i] ← 1\n",
    "\n",
    "FIND(i):\n",
    "  while i != id[i]:\n",
    "    i ← id[i]\n",
    "  return i\n",
    "\n",
    "UNION(p, q):\n",
    "  rootP ← FIND(p), rootQ ← FIND(q)\n",
    "  if rootP == rootQ: return\n",
    "  if sz[rootP] < sz[rootQ]:\n",
    "    id[rootP] ← rootQ\n",
    "    sz[rootQ] += sz[rootP]\n",
    "  else:\n",
    "    id[rootQ] ← rootP\n",
    "    sz[rootP] += sz[rootQ]\n",
    "```"
   ]
  },
  {
   "cell_type": "code",
   "execution_count": null,
   "id": "d1ccf632",
   "metadata": {},
   "outputs": [],
   "source": [
    "class WeightedQuickUnionUF:\n",
    "    def __init__(self, n):\n",
    "        self.id = list(range(n))\n",
    "        self.sz = [1]*n\n",
    "    def find(self, i):\n",
    "        while i != self.id[i]:\n",
    "            i = self.id[i]\n",
    "        return i\n",
    "    def union(self, p, q):\n",
    "        rootP, rootQ = self.find(p), self.find(q)\n",
    "        if rootP == rootQ:\n",
    "            return\n",
    "        if self.sz[rootP] < self.sz[rootQ]:\n",
    "            self.id[rootP] = rootQ\n",
    "            self.sz[rootQ] += self.sz[rootP]\n",
    "        else:\n",
    "            self.id[rootQ] = rootP\n",
    "            self.sz[rootP] += self.sz[rootQ]"
   ]
  },
  {
   "cell_type": "markdown",
   "id": "1499b5c2",
   "metadata": {},
   "source": [
    "## 4. Path Compression\n",
    "\n",
    "**Idea**: During `FIND`, make every examined node point directly to the root to flatten the tree, giving near-constant amortized time."
   ]
  },
  {
   "cell_type": "markdown",
   "id": "dc5ed367",
   "metadata": {},
   "source": [
    "**Pseudocode (two-pass)**\n",
    "```text\n",
    "FIND(i):\n",
    "  root ← i\n",
    "  while root != id[root]:\n",
    "    root ← id[root]\n",
    "  # second pass\n",
    "  while i != root:\n",
    "    next ← id[i]\n",
    "    id[i] ← root\n",
    "    i ← next\n",
    "  return root\n",
    "```"
   ]
  },
  {
   "cell_type": "code",
   "execution_count": null,
   "id": "cd0dcdd7",
   "metadata": {},
   "outputs": [],
   "source": [
    "def find_with_path_compression(id, i):\n",
    "    root = i\n",
    "    while root != id[root]:\n",
    "        root = id[root]\n",
    "    # path compression\n",
    "    while i != root:\n",
    "        next_i = id[i]\n",
    "        id[i] = root\n",
    "        i = next_i\n",
    "    return root"
   ]
  },
  {
   "cell_type": "markdown",
   "id": "a6e19907",
   "metadata": {},
   "source": [
    "**Pseudocode (recursive)**\n",
    "```text\n",
    "FIND(i):\n",
    "  if i != id[i]:\n",
    "    id[i] = FIND(id[i])\n",
    "  return id[i]\n",
    "```"
   ]
  },
  {
   "cell_type": "code",
   "execution_count": null,
   "id": "c6b3561e",
   "metadata": {},
   "outputs": [],
   "source": [
    "def find_recursive_pc(id, i):\n",
    "    if i != id[i]:\n",
    "        id[i] = find_recursive_pc(id, id[i])\n",
    "    return id[i]"
   ]
  },
  {
   "cell_type": "markdown",
   "id": "02e9b17e",
   "metadata": {},
   "source": [
    "## 5. Alternative Quick Find Variant\n",
    "\n",
    "**Variant**: In `UNION`, only update `id[i] == id[p]` entries rather than whole array?  \n",
    "**Comment**: Still O(n) in worst case, functions correctly but no asymptotic improvement over Quick Find."
   ]
  },
  {
   "cell_type": "markdown",
   "id": "4bab107c",
   "metadata": {},
   "source": [
    "**Pseudocode**\n",
    "```text\n",
    "UNION(p, q):\n",
    "  pid, qid = FIND(p), FIND(q)\n",
    "  if pid != qid:\n",
    "    for k in 0…n-1:\n",
    "      if id[k] == pid:\n",
    "        id[k] = qid\n",
    "```"
   ]
  },
  {
   "cell_type": "markdown",
   "id": "43415037",
   "metadata": {},
   "source": [
    "## 6. Dynamic Connected Components via Graph Search\n",
    "\n",
    "Use **DFS** or **BFS** on the graph to find connected components in O(n + m) per query or update.  \n",
    "**Trade-off**: Union-Find supports incremental connectivity in almost-constant amortized time, so much faster for many union/find operations."
   ]
  },
  {
   "cell_type": "markdown",
   "id": "729f1cc3",
   "metadata": {},
   "source": [
    "**Pseudocode (BFS)**\n",
    "```text\n",
    "CONNECTED-COMPONENTS(Adj):\n",
    "  mark all vertices unvisited\n",
    "  for u in V:\n",
    "    if not visited[u]:\n",
    "      BFS(u)  # labels component\n",
    "```"
   ]
  },
  {
   "cell_type": "code",
   "execution_count": null,
   "id": "128e3973",
   "metadata": {},
   "outputs": [],
   "source": [
    "from collections import deque\n",
    "\n",
    "def connected_components(adj):\n",
    "    n = len(adj)\n",
    "    cc = [-1]*n\n",
    "    label = 0\n",
    "    for i in range(n):\n",
    "        if cc[i] == -1:\n",
    "            queue = deque([i])\n",
    "            cc[i] = label\n",
    "            while queue:\n",
    "                u = queue.popleft()\n",
    "                for v in adj[u]:\n",
    "                    if cc[v] == -1:\n",
    "                        cc[v] = label\n",
    "                        queue.append(v)\n",
    "            label += 1\n",
    "    return cc"
   ]
  },
  {
   "cell_type": "markdown",
   "id": "ee52b0f7",
   "metadata": {},
   "source": [
    "## 7. Dynamic Connectivity Operations (ADDCABLE / CONNECTED)\n",
    "\n",
    "**Use**: Union-Find directly for online connectivity queries.  \n",
    "**Pseudocode**\n",
    "```text\n",
    "ADDCABLE(a, b): UNION(a, b)\n",
    "CONNECTED(a, b): return FIND(a) == FIND(b)\n",
    "```"
   ]
  },
  {
   "cell_type": "code",
   "execution_count": null,
   "id": "cde3abf6",
   "metadata": {},
   "outputs": [],
   "source": [
    "class UnionFind:\n",
    "    def __init__(self, n):\n",
    "        self.uf = WeightedQuickUnionUF(n)\n",
    "    def add_cable(self, a, b):\n",
    "        self.uf.union(a, b)\n",
    "    def connected(self, a, b):\n",
    "        return self.uf.find(a) == self.uf.find(b)"
   ]
  },
  {
   "cell_type": "markdown",
   "id": "c6772dd5",
   "metadata": {},
   "source": [
    "## 8. Percolation / Zombie Invasion\n",
    "\n",
    "Model a k×k grid: each cell is a site, connect open sites via Union-Find to detect if top and bottom are connected.  \n",
    "**Pseudocode**\n",
    "```text\n",
    "INIT: create UF on k*k + 2 nodes (virtual top, bottom)\n",
    "for each open cell (i,j):\n",
    "  for each neighbor (ni,nj) open:\n",
    "    UNION(cell(i,j), cell(ni,nj))\n",
    "  if i == 0: UNION(cell, TOP)\n",
    "  if i == k-1: UNION(cell, BOTTOM)\n",
    "PERCOLATES if FIND(TOP) == FIND(BOTTOM)\n",
    "```"
   ]
  },
  {
   "cell_type": "code",
   "execution_count": null,
   "id": "34db23ec",
   "metadata": {},
   "outputs": [],
   "source": [
    "def percolates(grid):\n",
    "    k = len(grid)\n",
    "    uf = UnionFind(k*k + 2)\n",
    "    TOP, BOTTOM = k*k, k*k+1\n",
    "    def index(i, j): return i*k + j\n",
    "    for i in range(k):\n",
    "        for j in range(k):\n",
    "            if not grid[i][j]: continue\n",
    "            idx = index(i, j)\n",
    "            if i == 0: uf.add_cable(idx, TOP)\n",
    "            if i == k-1: uf.add_cable(idx, BOTTOM)\n",
    "            for di, dj in [(1,0),(-1,0),(0,1),(0,-1)]:\n",
    "                ni, nj = i+di, j+dj\n",
    "                if 0 <= ni < k and 0 <= nj < k and grid[ni][nj]:\n",
    "                    uf.add_cable(idx, index(ni,nj))\n",
    "    return uf.connected(TOP, BOTTOM)"
   ]
  },
  {
   "cell_type": "markdown",
   "id": "603509db",
   "metadata": {},
   "source": [
    "## 9. Union-Find with Linked Lists & Weights\n",
    "\n",
    "**Idea**: Represent each set by a linked list with head/tail pointers and update by appending smaller list to larger.  \n",
    "- **INIT**: create n lists of one element.  \n",
    "- **FIND**: O(1) via element-to-head pointer.  \n",
    "- **UNION**: append smaller list to larger (O(min(size1, size2)))."
   ]
  },
  {
   "cell_type": "markdown",
   "id": "8b56cdbb",
   "metadata": {},
   "source": [
    "**Pseudocode**\n",
    "```text\n",
    "INIT(n):\n",
    "  for i in 0…n-1:\n",
    "    make list [i] with head=i, tail=i, rep[i]=i, size[i]=1\n",
    "\n",
    "FIND(i):\n",
    "  return rep[i]\n",
    "\n",
    "UNION(p, q):\n",
    "  rp←FIND(p), rq←FIND(q)\n",
    "  if rp == rq: return\n",
    "  if size[rp] < size[rq]: swap(rp, rq)\n",
    "  # append list rq after rp\n",
    "  tail[rp].next = head[rq]\n",
    "  tail[rp] = tail[rq]\n",
    "  for each x in list rq:\n",
    "    rep[x] = rp\n",
    "  size[rp] += size[rq]\n",
    "```"
   ]
  },
  {
   "cell_type": "code",
   "execution_count": null,
   "id": "26d0aaae",
   "metadata": {},
   "outputs": [],
   "source": [
    "class ListNode:\n",
    "    def __init__(self, val):\n",
    "        self.val = val\n",
    "        self.next = None\n",
    "\n",
    "class UFLinkedList:\n",
    "    def __init__(self, n):\n",
    "        self.head = [ListNode(i) for i in range(n)]\n",
    "        self.tail = list(self.head)\n",
    "        self.rep = list(range(n))\n",
    "        self.size = [1]*n\n",
    "    def find(self, i):\n",
    "        return self.rep[i]\n",
    "    def union(self, p, q):\n",
    "        rp, rq = self.find(p), self.find(q)\n",
    "        if rp == rq:\n",
    "            return\n",
    "        if self.size[rp] < self.size[rq]:\n",
    "            rp, rq = rq, rp\n",
    "        # append rq list to rp\n",
    "        self.tail[rp].next = self.head[rq]\n",
    "        self.tail[rp] = self.tail[rq]\n",
    "        node = self.head[rq]\n",
    "        while node:\n",
    "            self.rep[node.val] = rp\n",
    "            node = node.next\n",
    "        self.size[rp] += self.size[rq]"
   ]
  }
 ],
 "metadata": {
  "language_info": {
   "name": "python"
  }
 },
 "nbformat": 4,
 "nbformat_minor": 5
}
